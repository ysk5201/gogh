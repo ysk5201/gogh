{
 "cells": [
  {
   "cell_type": "code",
   "execution_count": 1,
   "id": "ece8537f",
   "metadata": {},
   "outputs": [
    {
     "name": "stdout",
     "output_type": "stream",
     "text": [
      "Requirement already satisfied: opencv-python-headless in c:\\users\\user1\\anaconda3\\lib\\site-packages (4.8.1.78)\n",
      "Requirement already satisfied: numpy in c:\\users\\user1\\anaconda3\\lib\\site-packages (1.20.1)\n"
     ]
    }
   ],
   "source": [
    "!pip install opencv-python-headless numpy"
   ]
  },
  {
   "cell_type": "code",
   "execution_count": 2,
   "id": "15864c3a",
   "metadata": {},
   "outputs": [
    {
     "name": "stdout",
     "output_type": "stream",
     "text": [
      "ゴッホ調に変換した画像を output.jpg に保存しました。\n"
     ]
    }
   ],
   "source": [
    "import cv2\n",
    "import numpy as np\n",
    "\n",
    "# インプット画像のパスと出力画像のパスを指定\n",
    "input_image_path = 'input.jpg'\n",
    "output_image_path = 'output.jpg'\n",
    "\n",
    "# 画像を読み込む\n",
    "img = cv2.imread(input_image_path)\n",
    "\n",
    "# ゴッホ調に変換\n",
    "# ゴッホ調の変換方法は様々ですが、ここではカーネルを適用してエッジを強調する方法を示します。\n",
    "kernel = np.array([[-1, -1, -1],\n",
    "                  [-1, 9, -1],\n",
    "                  [-1, -1, -1]])\n",
    "gogh_style_img = cv2.filter2D(img, -1, kernel)\n",
    "\n",
    "# 出力画像を保存\n",
    "cv2.imwrite(output_image_path, gogh_style_img)\n",
    "\n",
    "print(f'ゴッホ調に変換した画像を {output_image_path} に保存しました。')\n"
   ]
  },
  {
   "cell_type": "code",
   "execution_count": null,
   "id": "32f576a0",
   "metadata": {},
   "outputs": [],
   "source": []
  }
 ],
 "metadata": {
  "kernelspec": {
   "display_name": "Python 3",
   "language": "python",
   "name": "python3"
  },
  "language_info": {
   "codemirror_mode": {
    "name": "ipython",
    "version": 3
   },
   "file_extension": ".py",
   "mimetype": "text/x-python",
   "name": "python",
   "nbconvert_exporter": "python",
   "pygments_lexer": "ipython3",
   "version": "3.8.8"
  }
 },
 "nbformat": 4,
 "nbformat_minor": 5
}
